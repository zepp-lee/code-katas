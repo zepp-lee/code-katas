{
 "cells": [
  {
   "cell_type": "markdown",
   "metadata": {},
   "source": [
    "This problem was asked by Google.\n",
    "\n",
    "Given two singly linked lists that intersect at some point, find the intersecting node. The lists are non-cyclical.\n",
    "\n",
    "For example, given A = 3 -> 7 -> 8 -> 10 and B = 99 -> 1 -> 8 -> 10, return the node with value 8.\n",
    "\n",
    "In this example, assume nodes with the same value are the exact same node objects.\n",
    "\n",
    "Do this in O(M + N) time (where M and N are the lengths of the lists) and constant space."
   ]
  },
  {
   "cell_type": "markdown",
   "metadata": {},
   "source": [
    "## Solution"
   ]
  },
  {
   "cell_type": "code",
   "execution_count": 1,
   "metadata": {},
   "outputs": [],
   "source": [
    "def find_intersecting_node(l1, l2):\n",
    "    \"\"\"Total complexity: O(2M + 2N) == O(M + N)\"\"\"\n",
    "    r1 = reversed(l1)            # reversal has linear complexity → O(M)\n",
    "    r2 = reversed(l2)            # O(N)\n",
    "    last_match = None            # only one variable, i.e. constant space\n",
    "    for e1, e2 in zip(r1, r2):   # iteration has linear complexity: O(M) + O(N)\n",
    "        if e1 == e2:\n",
    "            last_match = e1\n",
    "        else:\n",
    "            return last_match\n",
    "    return last_match"
   ]
  },
  {
   "cell_type": "code",
   "execution_count": 2,
   "metadata": {},
   "outputs": [],
   "source": [
    "assert find_intersecting_node([3,7,8,10], [99,1,8,10]) == 8\n",
    "assert find_intersecting_node([1,2,8,9,14], [14]) == 14\n",
    "assert find_intersecting_node([], [1,2,3]) == None"
   ]
  }
 ],
 "metadata": {
  "kernelspec": {
   "display_name": "Python 3",
   "language": "python",
   "name": "python3"
  },
  "language_info": {
   "codemirror_mode": {
    "name": "ipython",
    "version": 3
   },
   "file_extension": ".py",
   "mimetype": "text/x-python",
   "name": "python",
   "nbconvert_exporter": "python",
   "pygments_lexer": "ipython3",
   "version": "3.7.2"
  }
 },
 "nbformat": 4,
 "nbformat_minor": 2
}
