{
 "cells": [
  {
   "cell_type": "markdown",
   "metadata": {},
   "source": [
    "This problem was asked by Twitter.\n",
    "\n",
    "You run an e-commerce website and want to record the last N order ids in a log. Implement a data structure to accomplish this, with the following API:\n",
    "\n",
    "    record(order_id): adds the order_id to the log\n",
    "    get_last(i): gets the ith last element from the log. i is guaranteed to be smaller than or equal to N.\n",
    "\n",
    "You should be as efficient with time and space as possible."
   ]
  },
  {
   "cell_type": "markdown",
   "metadata": {},
   "source": [
    "## Naive solution"
   ]
  },
  {
   "cell_type": "code",
   "execution_count": 10,
   "metadata": {},
   "outputs": [],
   "source": [
    "class NaiveOrderLog(list):\n",
    "    def record(self, order_id):\n",
    "        \"\"\"adds the order_id to the log\"\"\"\n",
    "        self.append(order_id)\n",
    "\n",
    "    def get_last(self, i=1):\n",
    "        return self[-i]"
   ]
  },
  {
   "cell_type": "code",
   "execution_count": 12,
   "metadata": {},
   "outputs": [],
   "source": [
    "naive_order_log = NaiveOrderLog()\n",
    "for id in range(1, 1000):\n",
    "    naive_order_log.record(id)\n",
    "assert naive_order_log.get_last() == 999\n",
    "assert naive_order_log.get_last(101) == 899"
   ]
  },
  {
   "cell_type": "markdown",
   "metadata": {},
   "source": [
    "## Sophisticated solution\n",
    "### Resources\n",
    "* [Symmetric Random Access List](https://www.cs.oberlin.edu/~jwalker/ra-list/)"
   ]
  }
 ],
 "metadata": {
  "kernelspec": {
   "display_name": "Python 3",
   "language": "python",
   "name": "python3"
  },
  "language_info": {
   "codemirror_mode": {
    "name": "ipython",
    "version": 3
   },
   "file_extension": ".py",
   "mimetype": "text/x-python",
   "name": "python",
   "nbconvert_exporter": "python",
   "pygments_lexer": "ipython3",
   "version": "3.7.2"
  }
 },
 "nbformat": 4,
 "nbformat_minor": 2
}
