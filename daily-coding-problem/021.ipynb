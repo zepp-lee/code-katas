{
 "cells": [
  {
   "cell_type": "markdown",
   "metadata": {},
   "source": [
    "## Problem"
   ]
  },
  {
   "cell_type": "markdown",
   "metadata": {},
   "source": [
    "This problem was asked by Snapchat.\n",
    "\n",
    "Given an array of time intervals (start, end) for classroom lectures (possibly overlapping), find the minimum number of rooms required.\n",
    "\n",
    "For example, given [(30, 75), (0, 50), (60, 150)], you should return 2."
   ]
  },
  {
   "cell_type": "markdown",
   "metadata": {},
   "source": [
    "## Solution"
   ]
  },
  {
   "cell_type": "code",
   "execution_count": 1,
   "metadata": {},
   "outputs": [],
   "source": [
    "def overlap(i1, i2):\n",
    "    if i1[0] <= i2[0]:\n",
    "        return i1[1] > i2[0]\n",
    "    else:\n",
    "        return i2[1] > i1[0]\n",
    "\n",
    "def generate_overlap_graph(intervals):\n",
    "    overlap_graph = {}\n",
    "    for i1 in intervals:\n",
    "        for i2 in intervals:\n",
    "            if overlap(i1, i2) and i1 is not i2:\n",
    "                overlap_graph.setdefault(i1, set()).add(i2)\n",
    "                overlap_graph.setdefault(i2, set()).add(i1)\n",
    "    return overlap_graph\n",
    "\n",
    "def rooms_required(intervals):\n",
    "    overlap_graph = generate_overlap_graph(intervals)\n",
    "    max_degree = max(len(item[1]) for item in overlap_graph.items()) if overlap_graph else 0\n",
    "    max_degree_nodes = {k:v for (k,v) in overlap_graph.items() if len(v) == max_degree}\n",
    "    return max_degree if len(max_degree_nodes) == 1 else max_degree + 1"
   ]
  },
  {
   "cell_type": "code",
   "execution_count": 2,
   "metadata": {},
   "outputs": [],
   "source": [
    "assert rooms_required([(30, 75), (0, 50), (60, 150)]) == 2\n",
    "assert rooms_required([(0, 20), (15, 45), (60, 75), (70, 75)]) == 2\n",
    "assert rooms_required([(0, 20), (15, 45), (60, 75), (70, 75), (70, 80)]) == 3\n",
    "assert rooms_required([(0, 20), (20, 30), (35, 75), (75, 75), (80, 90)]) == 1"
   ]
  }
 ],
 "metadata": {
  "kernelspec": {
   "display_name": "Python 3",
   "language": "python",
   "name": "python3"
  },
  "language_info": {
   "codemirror_mode": {
    "name": "ipython",
    "version": 3
   },
   "file_extension": ".py",
   "mimetype": "text/x-python",
   "name": "python",
   "nbconvert_exporter": "python",
   "pygments_lexer": "ipython3",
   "version": "3.7.3"
  }
 },
 "nbformat": 4,
 "nbformat_minor": 2
}
